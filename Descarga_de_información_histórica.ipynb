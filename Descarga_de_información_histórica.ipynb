{
  "cells": [
    {
      "cell_type": "markdown",
      "id": "dd351042-0d5d-467b-a39c-50f37cc83298",
      "metadata": {
        "id": "dd351042-0d5d-467b-a39c-50f37cc83298"
      },
      "source": [
        "# Descarga de información histórica de Yahoo Finance"
      ]
    },
    {
      "cell_type": "markdown",
      "id": "dc35b8dd-ea4e-4a95-9078-d4d4acc81cba",
      "metadata": {
        "id": "dc35b8dd-ea4e-4a95-9078-d4d4acc81cba"
      },
      "source": [
        "El siguiente código permite descargar información histórica desde la plataforma de Yahoo Finance."
      ]
    },
    {
      "cell_type": "markdown",
      "id": "f2fcb57a-a425-4073-abf4-f6fa8ecffb10",
      "metadata": {
        "id": "f2fcb57a-a425-4073-abf4-f6fa8ecffb10"
      },
      "source": [
        "Lo primero será instalar e importar la librería de Yahoo Finance."
      ]
    },
    {
      "cell_type": "markdown",
      "id": "f921504a-8548-4934-a787-a9e611b744e5",
      "metadata": {
        "id": "f921504a-8548-4934-a787-a9e611b744e5"
      },
      "source": [
        "Para instalar, corre la siguiente línea de código:"
      ]
    },
    {
      "cell_type": "code",
      "execution_count": null,
      "id": "4c7ac7b5-873e-42b4-b928-183d98a6125a",
      "metadata": {
        "id": "4c7ac7b5-873e-42b4-b928-183d98a6125a"
      },
      "outputs": [],
      "source": [
        "pip install yfinance"
      ]
    },
    {
      "cell_type": "markdown",
      "id": "f2b4dd74-01db-47f3-9c2a-1def17cf600d",
      "metadata": {
        "id": "f2b4dd74-01db-47f3-9c2a-1def17cf600d"
      },
      "source": [
        "Para importar la librería recién instalada, utiliza el siguiente comando e importa la librería junto con pandas."
      ]
    },
    {
      "cell_type": "code",
      "execution_count": null,
      "id": "77f6647a-d90c-424b-899a-9983337acfe9",
      "metadata": {
        "id": "77f6647a-d90c-424b-899a-9983337acfe9"
      },
      "outputs": [],
      "source": [
        "import pandas as pd\n",
        "import yfinance as yf\n",
        "\n",
        "from IPython.display import display # Esta librería es sólo para ver los dataframes bonitos."
      ]
    },
    {
      "cell_type": "markdown",
      "id": "68e49262-baf3-47c4-9be7-52ff9989d277",
      "metadata": {
        "id": "68e49262-baf3-47c4-9be7-52ff9989d277"
      },
      "source": [
        "Ahora vamos a crear una lista de TICKERS, símbolos de identificación bursátil, para poder descargar nuestra información. Utiliza tus propios tickers. Esos los puedes consultar en Yahoo Finance, al buscar la empresa, te sale el ticker en azul. También en Google puedes preguntar por los tickers de cada una de la empresas que utilizarás."
      ]
    },
    {
      "cell_type": "code",
      "execution_count": null,
      "id": "f1ab2e4f-6218-4aab-937b-de75435061df",
      "metadata": {
        "id": "f1ab2e4f-6218-4aab-937b-de75435061df"
      },
      "outputs": [],
      "source": [
        "# Lista 1\n",
        "tickers_list_1 = ['AAPL', 'MSFT', 'GOOGL', 'AMZN', 'TSLA']\n",
        "\n",
        "# Lista 2\n",
        "tickers_list_2 = ['NFLX', 'NVDA', 'BABA', 'META', 'AMD']"
      ]
    },
    {
      "cell_type": "markdown",
      "id": "f7e67d7d-fe36-4a05-849d-1e1b3d1b9164",
      "metadata": {
        "id": "f7e67d7d-fe36-4a05-849d-1e1b3d1b9164"
      },
      "source": [
        "Para descargar la información histórica, utilizaremos un **for loop**, para recorrer cada Ticker de la lista 1 y de la lista 2. Lo que hacemos es crear un Dataframe vacío, y luego tomamos la información del ticker 1 (sólo la del Close) y cambiamos el nombre de la columna (que sería 'Close') por la del ticker. Finalmente, concatenamos la información, **con axis = 1**, para tener los 5 tickers en columnas."
      ]
    },
    {
      "cell_type": "code",
      "execution_count": null,
      "id": "3e40e667-d710-49f9-839f-a356c1ad2277",
      "metadata": {
        "id": "3e40e667-d710-49f9-839f-a356c1ad2277"
      },
      "outputs": [],
      "source": [
        "# Descargar la información histórica para cada ticker de la lista 1\n",
        "historical_data_1 = pd.DataFrame()  # DataFrame vacío para almacenar los datos\n",
        "for ticker in tickers_list_1:\n",
        "    data = yf.Ticker(ticker).history(period=\"1y\")[['Close']]\n",
        "    data.columns = [ticker]  # Cambiar el nombre de la columna a ser el ticker\n",
        "    historical_data_1 = pd.concat([historical_data_1, data], axis=1)\n",
        "\n",
        "# Descargar la información histórica para cada ticker de la lista 2\n",
        "historical_data_2 = pd.DataFrame()  # DataFrame vacío para almacenar los datos\n",
        "for ticker in tickers_list_2:\n",
        "    data = yf.Ticker(ticker).history(period=\"1y\")[['Close']]\n",
        "    data.columns = [ticker]  # Cambiar el nombre de la columna a ser el ticker\n",
        "    historical_data_2 = pd.concat([historical_data_2, data], axis=1)\n",
        "\n",
        "# Finalmente, ajustamos el índice DateTime para que solo muestre año, mes y día\n",
        "historical_data_1.index = historical_data_1.index.date\n",
        "historical_data_2.index = historical_data_2.index.date"
      ]
    },
    {
      "cell_type": "markdown",
      "id": "c2cba0f5-86d8-4100-90d6-1b60d1652ea1",
      "metadata": {
        "id": "c2cba0f5-86d8-4100-90d6-1b60d1652ea1"
      },
      "source": [
        "Para corroborar que nuestros datos son correcto, podemos ver los primeros registros utilizando **head**."
      ]
    },
    {
      "cell_type": "code",
      "execution_count": null,
      "id": "b4cc88ca-f7f1-4b3f-9665-ac83ad8ab216",
      "metadata": {
        "id": "b4cc88ca-f7f1-4b3f-9665-ac83ad8ab216",
        "outputId": "fb5a0a50-e7b4-46ee-fcf4-943d21a3c1a9"
      },
      "outputs": [
        {
          "name": "stdout",
          "output_type": "stream",
          "text": [
            "Datos históricos de la lista 1:\n",
            "\n"
          ]
        },
        {
          "data": {
            "text/html": [
              "<div>\n",
              "<style scoped>\n",
              "    .dataframe tbody tr th:only-of-type {\n",
              "        vertical-align: middle;\n",
              "    }\n",
              "\n",
              "    .dataframe tbody tr th {\n",
              "        vertical-align: top;\n",
              "    }\n",
              "\n",
              "    .dataframe thead th {\n",
              "        text-align: right;\n",
              "    }\n",
              "</style>\n",
              "<table border=\"1\" class=\"dataframe\">\n",
              "  <thead>\n",
              "    <tr style=\"text-align: right;\">\n",
              "      <th></th>\n",
              "      <th>AAPL</th>\n",
              "      <th>MSFT</th>\n",
              "      <th>GOOGL</th>\n",
              "      <th>AMZN</th>\n",
              "      <th>TSLA</th>\n",
              "    </tr>\n",
              "  </thead>\n",
              "  <tbody>\n",
              "    <tr>\n",
              "      <th>2023-10-05</th>\n",
              "      <td>174.019516</td>\n",
              "      <td>316.980682</td>\n",
              "      <td>134.736374</td>\n",
              "      <td>125.959999</td>\n",
              "      <td>260.049988</td>\n",
              "    </tr>\n",
              "    <tr>\n",
              "      <th>2023-10-06</th>\n",
              "      <td>176.586395</td>\n",
              "      <td>324.821899</td>\n",
              "      <td>137.240158</td>\n",
              "      <td>127.959999</td>\n",
              "      <td>260.529999</td>\n",
              "    </tr>\n",
              "    <tr>\n",
              "      <th>2023-10-09</th>\n",
              "      <td>178.078766</td>\n",
              "      <td>327.362793</td>\n",
              "      <td>138.078094</td>\n",
              "      <td>128.259995</td>\n",
              "      <td>259.670013</td>\n",
              "    </tr>\n",
              "    <tr>\n",
              "      <th>2023-10-10</th>\n",
              "      <td>177.481812</td>\n",
              "      <td>325.943451</td>\n",
              "      <td>137.718979</td>\n",
              "      <td>129.479996</td>\n",
              "      <td>263.619995</td>\n",
              "    </tr>\n",
              "    <tr>\n",
              "      <th>2023-10-11</th>\n",
              "      <td>178.884628</td>\n",
              "      <td>329.943451</td>\n",
              "      <td>140.202850</td>\n",
              "      <td>131.830002</td>\n",
              "      <td>262.989990</td>\n",
              "    </tr>\n",
              "  </tbody>\n",
              "</table>\n",
              "</div>"
            ],
            "text/plain": [
              "                  AAPL        MSFT       GOOGL        AMZN        TSLA\n",
              "2023-10-05  174.019516  316.980682  134.736374  125.959999  260.049988\n",
              "2023-10-06  176.586395  324.821899  137.240158  127.959999  260.529999\n",
              "2023-10-09  178.078766  327.362793  138.078094  128.259995  259.670013\n",
              "2023-10-10  177.481812  325.943451  137.718979  129.479996  263.619995\n",
              "2023-10-11  178.884628  329.943451  140.202850  131.830002  262.989990"
            ]
          },
          "metadata": {},
          "output_type": "display_data"
        },
        {
          "name": "stdout",
          "output_type": "stream",
          "text": [
            "\n",
            "Datos históricos de la lista 2:\n",
            "\n"
          ]
        },
        {
          "data": {
            "text/html": [
              "<div>\n",
              "<style scoped>\n",
              "    .dataframe tbody tr th:only-of-type {\n",
              "        vertical-align: middle;\n",
              "    }\n",
              "\n",
              "    .dataframe tbody tr th {\n",
              "        vertical-align: top;\n",
              "    }\n",
              "\n",
              "    .dataframe thead th {\n",
              "        text-align: right;\n",
              "    }\n",
              "</style>\n",
              "<table border=\"1\" class=\"dataframe\">\n",
              "  <thead>\n",
              "    <tr style=\"text-align: right;\">\n",
              "      <th></th>\n",
              "      <th>NFLX</th>\n",
              "      <th>NVDA</th>\n",
              "      <th>BABA</th>\n",
              "      <th>META</th>\n",
              "      <th>AMD</th>\n",
              "    </tr>\n",
              "  </thead>\n",
              "  <tbody>\n",
              "    <tr>\n",
              "      <th>2023-10-05</th>\n",
              "      <td>372.589996</td>\n",
              "      <td>44.674480</td>\n",
              "      <td>80.804024</td>\n",
              "      <td>303.875092</td>\n",
              "      <td>102.910004</td>\n",
              "    </tr>\n",
              "    <tr>\n",
              "      <th>2023-10-06</th>\n",
              "      <td>381.510010</td>\n",
              "      <td>45.748161</td>\n",
              "      <td>83.112152</td>\n",
              "      <td>314.483124</td>\n",
              "      <td>107.239998</td>\n",
              "    </tr>\n",
              "    <tr>\n",
              "      <th>2023-10-09</th>\n",
              "      <td>385.950012</td>\n",
              "      <td>45.259304</td>\n",
              "      <td>81.943596</td>\n",
              "      <td>317.404327</td>\n",
              "      <td>106.970001</td>\n",
              "    </tr>\n",
              "    <tr>\n",
              "      <th>2023-10-10</th>\n",
              "      <td>373.320007</td>\n",
              "      <td>45.784149</td>\n",
              "      <td>84.184128</td>\n",
              "      <td>320.873871</td>\n",
              "      <td>109.010002</td>\n",
              "    </tr>\n",
              "    <tr>\n",
              "      <th>2023-10-11</th>\n",
              "      <td>365.929993</td>\n",
              "      <td>46.791840</td>\n",
              "      <td>84.773239</td>\n",
              "      <td>326.835938</td>\n",
              "      <td>108.309998</td>\n",
              "    </tr>\n",
              "  </tbody>\n",
              "</table>\n",
              "</div>"
            ],
            "text/plain": [
              "                  NFLX       NVDA       BABA        META         AMD\n",
              "2023-10-05  372.589996  44.674480  80.804024  303.875092  102.910004\n",
              "2023-10-06  381.510010  45.748161  83.112152  314.483124  107.239998\n",
              "2023-10-09  385.950012  45.259304  81.943596  317.404327  106.970001\n",
              "2023-10-10  373.320007  45.784149  84.184128  320.873871  109.010002\n",
              "2023-10-11  365.929993  46.791840  84.773239  326.835938  108.309998"
            ]
          },
          "metadata": {},
          "output_type": "display_data"
        }
      ],
      "source": [
        "# Muestra los primeros datos descargados de ambas listas\n",
        "print(\"Datos históricos de la lista 1:\\n\")\n",
        "display(historical_data_1.head())\n",
        "\n",
        "print(\"\\nDatos históricos de la lista 2:\\n\")\n",
        "display(historical_data_2.head())"
      ]
    },
    {
      "cell_type": "markdown",
      "id": "18a7a50c-bc86-4f47-834d-2f1d0106a263",
      "metadata": {
        "id": "18a7a50c-bc86-4f47-834d-2f1d0106a263"
      },
      "source": [
        "Por último exporta tus datos a un archivo de Excel, donde la hoja uno sean los datos que consideras tienen correlación entre sí, y la hoja dos los datos donde consideras que no tienen correlación."
      ]
    },
    {
      "cell_type": "code",
      "execution_count": null,
      "id": "eefeaa04-3c5c-4ca5-be26-1f9181deed21",
      "metadata": {
        "id": "eefeaa04-3c5c-4ca5-be26-1f9181deed21",
        "outputId": "5cee489b-1713-413c-c7be-63ab0b2f9999"
      },
      "outputs": [
        {
          "name": "stdout",
          "output_type": "stream",
          "text": [
            "Los datos han sido exportados exitosamente al archivo 'Equipo X.xlsx'\n"
          ]
        }
      ],
      "source": [
        "# Crea un archivo Excel con dos hojas\n",
        "with pd.ExcelWriter('Equipo X.xlsx') as writer: # Ponle un nombre cool a tu equipo!!\n",
        "    # Exporta el primer DataFrame a la hoja \"correlacionados\"\n",
        "    historical_data_1.to_excel(writer, sheet_name='correlacionados')\n",
        "\n",
        "    # Exporta el segundo DataFrame a la hoja \"no correlacionados\"\n",
        "    historical_data_2.to_excel(writer, sheet_name='no correlacionados')\n",
        "\n",
        "print(\"Los datos han sido exportados exitosamente al archivo 'Equipo X.xlsx'\")"
      ]
    }
  ],
  "metadata": {
    "kernelspec": {
      "display_name": "Python 3 (ipykernel)",
      "language": "python",
      "name": "python3"
    },
    "language_info": {
      "codemirror_mode": {
        "name": "ipython",
        "version": 3
      },
      "file_extension": ".py",
      "mimetype": "text/x-python",
      "name": "python",
      "nbconvert_exporter": "python",
      "pygments_lexer": "ipython3",
      "version": "3.11.10"
    },
    "colab": {
      "provenance": []
    }
  },
  "nbformat": 4,
  "nbformat_minor": 5
}
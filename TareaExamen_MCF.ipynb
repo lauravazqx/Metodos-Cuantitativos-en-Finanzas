{
  "nbformat": 4,
  "nbformat_minor": 0,
  "metadata": {
    "colab": {
      "provenance": [],
      "authorship_tag": "ABX9TyN5SRFkLfNoAymTHy4HNV65",
      "include_colab_link": true
    },
    "kernelspec": {
      "name": "python3",
      "display_name": "Python 3"
    },
    "language_info": {
      "name": "python"
    }
  },
  "cells": [
    {
      "cell_type": "markdown",
      "metadata": {
        "id": "view-in-github",
        "colab_type": "text"
      },
      "source": [
        "<a href=\"https://colab.research.google.com/github/lauravazqx/Metodos-Cuantitativos-en-Finanzas/blob/main/TareaExamen_MCF.ipynb\" target=\"_parent\"><img src=\"https://colab.research.google.com/assets/colab-badge.svg\" alt=\"Open In Colab\"/></a>"
      ]
    },
    {
      "cell_type": "markdown",
      "source": [
        "# **Tarea Examen**\n",
        "## **Métodos Cuantitativos en Finanzas 225-1**.\n",
        "## **Árboles Binomiales y Simulación Monte Carlo**.\n",
        "\n",
        "\n",
        "\n",
        "*   Gómez Arista Aimee Michelle\n",
        "*   Salvador Vázquez Laura Teresa\n",
        "\n"
      ],
      "metadata": {
        "id": "AIdvppjqsuup"
      }
    },
    {
      "cell_type": "markdown",
      "source": [
        "# Parte I. Árboles Binomiales\n",
        "\n",
        "Implementaciones en Python\n",
        "\n",
        "## 1. c)\n",
        "Crea una función en Python para\n",
        "construir el árbol binomial de precios de la acción y calcular el\n",
        "precio de la opción.\n"
      ],
      "metadata": {
        "id": "_o3IvGNstJIe"
      }
    },
    {
      "cell_type": "code",
      "execution_count": 1,
      "metadata": {
        "colab": {
          "base_uri": "https://localhost:8080/"
        },
        "id": "PjFT61i6spji",
        "outputId": "c8cf2241-c60b-486d-c105-891e897c07c0"
      },
      "outputs": [
        {
          "output_type": "execute_result",
          "data": {
            "text/plain": [
              "2.9498896742597265"
            ]
          },
          "metadata": {},
          "execution_count": 1
        }
      ],
      "source": [
        "import numpy as np\n",
        "\n",
        "def binomial_option_pricing(S0, K, r, T, dt, u, d, option_type=\"call\"):\n",
        "    \"\"\"\n",
        "    Calcula el precio de una opción europea utilizando el modelo binomial.\n",
        "\n",
        "    Parámetros:\n",
        "    - S0: Precio inicial de la acción.\n",
        "    - K: Precio de ejercicio de la opción.\n",
        "    - r: Tasa de interés libre de riesgo (anual).\n",
        "    - T: Tiempo hasta el vencimiento (en años).\n",
        "    - dt: Duración de cada periodo.\n",
        "    - u: Factor de subida en cada periodo.\n",
        "    - d: Factor de bajada en cada periodo.\n",
        "    - option_type: Tipo de opción (\"call\" o \"put\").\n",
        "\n",
        "    Retorna:\n",
        "    - Precio de la opción al tiempo 0.\n",
        "    \"\"\"\n",
        "    # Número de periodos\n",
        "    N = int(T / dt)\n",
        "\n",
        "    # Probabilidades neutrales al riesgo\n",
        "    R = np.exp(r * dt)\n",
        "    p = (R - d) / (u - d)\n",
        "\n",
        "    # Construcción del árbol de precios de la acción\n",
        "    prices = np.zeros((N + 1, N + 1))  # Matriz para los precios de la acción\n",
        "    prices[0, 0] = S0\n",
        "    for t in range(1, N + 1):\n",
        "        for j in range(t + 1):\n",
        "            prices[j, t] = S0 * (u**(t - j)) * (d**j)\n",
        "\n",
        "    # Valores de la opción al vencimiento\n",
        "    option_values = np.zeros((N + 1, N + 1))\n",
        "    for j in range(N + 1):\n",
        "        if option_type == \"call\":\n",
        "            option_values[j, N] = max(0, prices[j, N] - K)\n",
        "        elif option_type == \"put\":\n",
        "            option_values[j, N] = max(0, K - prices[j, N])\n",
        "\n",
        "    # Retroceso a través del árbol para calcular el precio de la opción\n",
        "    for t in range(N - 1, -1, -1):\n",
        "        for j in range(t + 1):\n",
        "            option_values[j, t] = np.exp(-r * dt) * (\n",
        "                p * option_values[j, t + 1] + (1 - p) * option_values[j + 1, t + 1]\n",
        "            )\n",
        "\n",
        "    # Precio de la opción al tiempo 0\n",
        "    return option_values[0, 0]\n",
        "\n",
        "# Ejemplo de uso\n",
        "S0 = 50  # Precio inicial\n",
        "K = 52  # Precio de ejercicio\n",
        "r = 0.02  # Tasa libre de riesgo anual\n",
        "T = 2  # Tiempo hasta el vencimiento en años\n",
        "dt = 1  # Duración de cada periodo\n",
        "u = 1.1  # Factor de subida\n",
        "d = 0.9  # Factor de bajada\n",
        "\n",
        "call_price = binomial_option_pricing(S0, K, r, T, dt, u, d, option_type=\"call\")\n",
        "call_price\n"
      ]
    },
    {
      "cell_type": "markdown",
      "source": [
        "## 3. a)\n",
        "\n",
        "Implementación en Python: Escribe una función en Python para construir el árbol binomial y calcular el precio de la opción put americana, considerando el ejercicio anticipado."
      ],
      "metadata": {
        "id": "Ip-gPOCmHhkp"
      }
    },
    {
      "cell_type": "code",
      "source": [
        "import numpy as np\n",
        "\n",
        "def binomial_american_put(S0, K, r, u, d, T):\n",
        "    \"\"\"\n",
        "    Calcula el precio de una opción put americana utilizando un modelo binomial.\n",
        "\n",
        "    Parámetros:\n",
        "    S0: Precio inicial de la acción.\n",
        "    K: Precio de ejercicio de la opción.\n",
        "    r: Tasa libre de riesgo (compuesta continuamente).\n",
        "    u: Factor de subida.\n",
        "    d: Factor de bajada.\n",
        "    T: Número de periodos en el árbol.\n",
        "\n",
        "    Retorna:\n",
        "    - Precio de la opción en t=0.\n",
        "    - Árbol de precios de la acción.\n",
        "    - Árbol de valores de la opción.\n",
        "    \"\"\"\n",
        "    # Probabilidad neutra al riesgo\n",
        "    dt = 1  # Duración del periodo\n",
        "    R = np.exp(r * dt)\n",
        "    p = (R - d) / (u - d)\n",
        "\n",
        "    # Construcción del árbol de precios\n",
        "    prices = np.zeros((T + 1, T + 1))\n",
        "    prices[0, 0] = S0\n",
        "\n",
        "    for t in range(1, T + 1):\n",
        "        for j in range(t + 1):\n",
        "            prices[j, t] = S0 * (u ** (t - j)) * (d ** j)\n",
        "\n",
        "    # Construcción del árbol de valores de la opción\n",
        "    option_values = np.zeros((T + 1, T + 1))\n",
        "\n",
        "    # Valores de la opción al vencimiento (t = T)\n",
        "    for j in range(T + 1):\n",
        "        option_values[j, T] = max(0, K - prices[j, T])\n",
        "\n",
        "    # Retroceso a través del árbol para calcular el valor de la opción\n",
        "    for t in range(T - 1, -1, -1):\n",
        "        for j in range(t + 1):\n",
        "            # Valor esperado descontado\n",
        "            expected_value = np.exp(-r * dt) * (p * option_values[j, t + 1] + (1 - p) * option_values[j + 1, t + 1])\n",
        "            # Valor de ejercicio anticipado\n",
        "            option_values[j, t] = max(expected_value, K - prices[j, t])\n",
        "\n",
        "    # El precio de la opción al inicio es el valor en el nodo raíz\n",
        "    return option_values[0, 0], prices, option_values\n",
        "\n",
        "\n",
        "# Ejemplo de uso\n",
        "S0 = 40  # Precio inicial de la acción\n",
        "K = 38  # Precio de ejercicio\n",
        "r = 0.04  # Tasa libre de riesgo\n",
        "u = 1.12  # Factor de subida\n",
        "d = 0.88  # Factor de bajada\n",
        "T = 3  # Número de periodos\n",
        "\n",
        "# Calcular precio de la opción y mostrar árboles\n",
        "precio_opcion, precios_arbol, valores_opcion = binomial_american_put(S0, K, r, u, d, T)\n",
        "\n",
        "# Resultados\n",
        "print(f\"Precio de la opción put americana en t=0: {precio_opcion:.2f}\\n\")\n",
        "print(\"Árbol de precios de la acción:\")\n",
        "print(precios_arbol)\n",
        "print(\"\\nÁrbol de valores de la opción:\")\n",
        "print(valores_opcion)\n"
      ],
      "metadata": {
        "colab": {
          "base_uri": "https://localhost:8080/"
        },
        "id": "uYPCIp9MHl6G",
        "outputId": "a0c84a19-f7d5-4b27-a9c8-174962bbe1ad"
      },
      "execution_count": 1,
      "outputs": [
        {
          "output_type": "stream",
          "name": "stdout",
          "text": [
            "Precio de la opción put americana en t=0: 1.13\n",
            "\n",
            "Árbol de precios de la acción:\n",
            "[[40.      44.8     50.176   56.19712]\n",
            " [ 0.      35.2     39.424   44.15488]\n",
            " [ 0.       0.      30.976   34.69312]\n",
            " [ 0.       0.       0.      27.25888]]\n",
            "\n",
            "Árbol de valores de la opción:\n",
            "[[ 1.1338165   0.33234151  0.          0.        ]\n",
            " [ 0.          2.90162109  1.04833844  0.        ]\n",
            " [ 0.          0.          7.024       3.30688   ]\n",
            " [ 0.          0.          0.         10.74112   ]]\n"
          ]
        }
      ]
    },
    {
      "cell_type": "markdown",
      "source": [
        "# Parte I. Simulaciones Monte Carlo.\n",
        "\n",
        "Implementaciones en Python\n",
        "\n",
        "## 1. a)\n",
        "Escribe un código en Python que realice la simulación Monte Carlo para calcular el precio de la opción call.\n"
      ],
      "metadata": {
        "id": "DgB0hbiXYSiV"
      }
    },
    {
      "cell_type": "code",
      "source": [
        "import numpy as np\n",
        "\n",
        "# Parámetros de la opción\n",
        "S0 = 50  # Precio actual de la acción\n",
        "K = 55   # Precio de ejercicio\n",
        "r = 0.03  # Tasa de interés libre de riesgo\n",
        "sigma = 0.25  # Volatilidad anual\n",
        "T = 1    # Tiempo hasta el vencimiento (1 año)\n",
        "n_simulaciones = 10000  # Número de simulaciones\n",
        "\n",
        "# Simulación de Monte Carlo\n",
        "np.random.seed(42)  # Para reproducibilidad\n",
        "payoffs = []\n",
        "\n",
        "for _ in range(n_simulaciones):\n",
        "    # Simulación de un camino del precio de la acción\n",
        "    Z = np.random.normal(0, 1)  # Variable aleatoria normal\n",
        "    ST = S0 * np.exp((r - 0.5 * sigma**2) * T + sigma * np.sqrt(T) * Z)\n",
        "\n",
        "    # Calcular el payoff de la opción call\n",
        "    payoff = max(ST - K, 0)\n",
        "    payoffs.append(payoff)\n",
        "\n",
        "# Estimación del precio de la opción\n",
        "precio_opcion = np.exp(-r * T) * np.mean(payoffs)\n",
        "\n",
        "print(f\"El precio estimado de la opción call es: ${precio_opcion:.2f}\")\n"
      ],
      "metadata": {
        "colab": {
          "base_uri": "https://localhost:8080/"
        },
        "id": "p5fSpKvfYTEh",
        "outputId": "d06572e9-dcc1-409f-afaf-fa3486bf3542"
      },
      "execution_count": 3,
      "outputs": [
        {
          "output_type": "stream",
          "name": "stdout",
          "text": [
            "El precio estimado de la opción call es: $3.63\n"
          ]
        }
      ]
    },
    {
      "cell_type": "markdown",
      "source": [
        "## 2. a)\n",
        " Utiliza tu código de Monte Carlo\n",
        " y modifica el número de iteraciones para observar y graficar la convergencia del valor de la opción en funció del número de simulaciones"
      ],
      "metadata": {
        "id": "G1uU3BXIbvj_"
      }
    },
    {
      "cell_type": "code",
      "source": [
        "import numpy as np\n",
        "\n",
        "# Parámetros de la opción\n",
        "S0 = 50  # Precio actual de la acción\n",
        "K = 55   # Precio de ejercicio\n",
        "r = 0.03  # Tasa de interés libre de riesgo\n",
        "sigma = 0.25  # Volatilidad anual\n",
        "T = 1    # Tiempo hasta el vencimiento (1 año)\n",
        "\n",
        "# Función para realizar la simulación de Monte Carlo\n",
        "def monte_carlo_call_option(S0, K, r, sigma, T, n_simulaciones):\n",
        "    payoffs = []\n",
        "    np.random.seed(42)\n",
        "    for _ in range(n_simulaciones):\n",
        "        Z = np.random.normal(0, 1)  # Variable aleatoria normal\n",
        "        ST = S0 * np.exp((r - 0.5 * sigma**2) * T + sigma * np.sqrt(T) * Z)\n",
        "        payoff = max(ST - K, 0)\n",
        "        payoffs.append(payoff)\n",
        "\n",
        "    precio_opcion = np.exp(-r * T) * np.mean(payoffs)\n",
        "    return precio_opcion\n",
        "\n",
        "# Realizamos simulaciones con diferentes números de iteraciones\n",
        "n_simulaciones_list = [100, 1000, 10000]\n",
        "resultados = {}\n",
        "\n",
        "for n in n_simulaciones_list:\n",
        "    precio = monte_carlo_call_option(S0, K, r, sigma, T, n)\n",
        "    resultados[n] = precio\n",
        "\n",
        "# Mostrar los resultados\n",
        "for n, precio in resultados.items():\n",
        "    print(f\"Precio estimado de la opción con {n} simulaciones: ${precio:.2f}\")\n"
      ],
      "metadata": {
        "colab": {
          "base_uri": "https://localhost:8080/"
        },
        "id": "gq0tGB22b7lv",
        "outputId": "2beb758b-b34d-4458-f346-baa30bdfd8b9"
      },
      "execution_count": 4,
      "outputs": [
        {
          "output_type": "stream",
          "name": "stdout",
          "text": [
            "Precio estimado de la opción con 100 simulaciones: $2.45\n",
            "Precio estimado de la opción con 1000 simulaciones: $3.64\n",
            "Precio estimado de la opción con 10000 simulaciones: $3.63\n"
          ]
        }
      ]
    },
    {
      "cell_type": "markdown",
      "source": [
        "## 3. a)\n",
        " Modifica el código de simulación\n",
        " Monte Carlo para incluir el pago de dividendos y calcula el precio\n",
        " de la opión put."
      ],
      "metadata": {
        "id": "RJyHbVxEd93a"
      }
    },
    {
      "cell_type": "code",
      "source": [
        "import numpy as np\n",
        "\n",
        "# Parámetros\n",
        "S0 = 50          # Precio inicial de la acción\n",
        "K = 48           # Precio de ejercicio\n",
        "r = 0.04         # Tasa libre de riesgo\n",
        "q = 0.02         # Tasa de dividendos\n",
        "sigma = 0.20     # Volatilidad\n",
        "T = 1            # Tiempo al vencimiento (en años)\n",
        "N = 1000000      # Número de simulaciones\n",
        "\n",
        "# Simulación Monte Carlo\n",
        "np.random.seed(42)  # Fijar semilla para reproducibilidad\n",
        "Z = np.random.standard_normal(N)  # Generar números aleatorios normales\n",
        "\n",
        "# Cálculo del precio de la opción\n",
        "ST = S0 * np.exp((r - q - 0.5 * sigma**2) * T + sigma * np.sqrt(T) * Z)\n",
        "payoff = np.maximum(K - ST, 0)  # Payoff de la opción put\n",
        "precio_put = np.exp(-r * T) * np.mean(payoff)  # Valor presente esperado\n",
        "\n",
        "print(f\"El precio de la opción put es: {precio_put:.4f}\")\n"
      ],
      "metadata": {
        "colab": {
          "base_uri": "https://localhost:8080/"
        },
        "id": "jYmFbFlveqek",
        "outputId": "1784f58d-b1d7-4b7f-dac0-cca0c6dd2519"
      },
      "execution_count": 6,
      "outputs": [
        {
          "output_type": "stream",
          "name": "stdout",
          "text": [
            "El precio de la opción put es: 2.5229\n"
          ]
        }
      ]
    }
  ]
}